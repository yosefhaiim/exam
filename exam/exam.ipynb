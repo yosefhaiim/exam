{
 "cells": [
  {
   "metadata": {},
   "cell_type": "code",
   "outputs": [],
   "execution_count": null,
   "source": "",
   "id": "6a9e9f5945c1b169"
  },
  {
   "metadata": {},
   "cell_type": "markdown",
   "source": [
    "# Exercise: Exploratory Data Analysis with Pandas\n",
    "## Instructions\n",
    "1. Data Collection\n",
    "    - Search and collect data on the following: (1993 - 2023)\n",
    "        - Israel interest tares\n",
    "        - US interest rates\n",
    "        - USD to ILS exchange rates\n",
    "    - For each dataset, create a pandas DataFrame with the following columns:\n",
    "        - Year\n",
    "        - Month\n",
    "        - Current_Rate (Interest rate or exchange rate for that month)\n",
    "        - Change_From_Last_Month (Difference in Current_Rate from the previous month)\n",
    "        - Optional: You may include additional columns if you find them useful (e.g., Change_Percentage, Date).\n",
    "\n"
   ],
   "id": "2b8e938eb34b0315"
  },
  {
   "metadata": {
    "ExecuteTime": {
     "end_time": "2024-11-07T09:31:35.459066Z",
     "start_time": "2024-11-07T09:31:35.432058Z"
    }
   },
   "cell_type": "code",
   "source": [
    "import datetime as dt\n",
    "from datetime import datetime\n",
    "\n",
    "from pandas import merge"
   ],
   "id": "7a96ccec3bda51c8",
   "outputs": [],
   "execution_count": 39
  },
  {
   "metadata": {
    "ExecuteTime": {
     "end_time": "2024-11-07T09:16:50.825305Z",
     "start_time": "2024-11-07T09:16:50.793719Z"
    }
   },
   "cell_type": "code",
   "source": "import numpy as np",
   "id": "a2ecf96de381072a",
   "outputs": [],
   "execution_count": 27
  },
  {
   "metadata": {
    "ExecuteTime": {
     "end_time": "2024-11-07T08:23:36.135281Z",
     "start_time": "2024-11-07T08:23:33.587427Z"
    }
   },
   "cell_type": "code",
   "source": "import pandas as pd",
   "id": "17a7b132e53c5faa",
   "outputs": [],
   "execution_count": 1
  },
  {
   "metadata": {
    "ExecuteTime": {
     "end_time": "2024-11-07T09:30:12.748578Z",
     "start_time": "2024-11-07T09:30:12.557611Z"
    }
   },
   "cell_type": "code",
   "source": "df_of_interest_il = pd.read_csv('exam/BR.csv')",
   "id": "81414a7a766a6d74",
   "outputs": [],
   "execution_count": 37
  },
  {
   "metadata": {
    "ExecuteTime": {
     "end_time": "2024-11-07T09:41:58.839978Z",
     "start_time": "2024-11-07T09:41:58.759685Z"
    }
   },
   "cell_type": "code",
   "source": "df_of_interest_il",
   "id": "c8136b2ef05387b4",
   "outputs": [
    {
     "data": {
      "text/plain": [
       "         SERIES_CODE          שם סדרה FREQ תדירות IR_FV_TYPE  \\\n",
       "0      MNT_RIB_BOI_D  ריבית בנק ישראל    D   יומי    RIB_BOI   \n",
       "1      MNT_RIB_BOI_D  ריבית בנק ישראל    D   יומי    RIB_BOI   \n",
       "2      MNT_RIB_BOI_D  ריבית בנק ישראל    D   יומי    RIB_BOI   \n",
       "3      MNT_RIB_BOI_D  ריבית בנק ישראל    D   יומי    RIB_BOI   \n",
       "4      MNT_RIB_BOI_D  ריבית בנק ישראל    D   יומי    RIB_BOI   \n",
       "...              ...              ...  ...    ...        ...   \n",
       "10926  MNT_RIB_BOI_D  ריבית בנק ישראל    D   יומי    RIB_BOI   \n",
       "10927  MNT_RIB_BOI_D  ריבית בנק ישראל    D   יומי    RIB_BOI   \n",
       "10928  MNT_RIB_BOI_D  ריבית בנק ישראל    D   יומי    RIB_BOI   \n",
       "10929  MNT_RIB_BOI_D  ריבית בנק ישראל    D   יומי    RIB_BOI   \n",
       "10930  MNT_RIB_BOI_D  ריבית בנק ישראל    D   יומי    RIB_BOI   \n",
       "\n",
       "                             סוג ריבית DATA_SOURCE מקור נתונים TIME_COLLECT  \\\n",
       "0      ריבית בנק מרכזי מוצהרת נומינלית         BOI   בנק ישראל            V   \n",
       "1      ריבית בנק מרכזי מוצהרת נומינלית         BOI   בנק ישראל            V   \n",
       "2      ריבית בנק מרכזי מוצהרת נומינלית         BOI   בנק ישראל            V   \n",
       "3      ריבית בנק מרכזי מוצהרת נומינלית         BOI   בנק ישראל            V   \n",
       "4      ריבית בנק מרכזי מוצהרת נומינלית         BOI   בנק ישראל            V   \n",
       "...                                ...         ...         ...          ...   \n",
       "10926  ריבית בנק מרכזי מוצהרת נומינלית         BOI   בנק ישראל            V   \n",
       "10927  ריבית בנק מרכזי מוצהרת נומינלית         BOI   בנק ישראל            V   \n",
       "10928  ריבית בנק מרכזי מוצהרת נומינלית         BOI   בנק ישראל            V   \n",
       "10929  ריבית בנק מרכזי מוצהרת נומינלית         BOI   בנק ישראל            V   \n",
       "10930  ריבית בנק מרכזי מוצהרת נומינלית         BOI   בנק ישראל            V   \n",
       "\n",
       "      אופן חישוב בתקופת זמן CONF_STATUS סיווג סודיות UNIT_MEASURE יחידות מידה  \\\n",
       "0                       אחר           F      לא סודי           PT      אחוזים   \n",
       "1                       אחר           F      לא סודי           PT      אחוזים   \n",
       "2                       אחר           F      לא סודי           PT      אחוזים   \n",
       "3                       אחר           F      לא סודי           PT      אחוזים   \n",
       "4                       אחר           F      לא סודי           PT      אחוזים   \n",
       "...                     ...         ...          ...          ...         ...   \n",
       "10926                   אחר           F      לא סודי           PT      אחוזים   \n",
       "10927                   אחר           F      לא סודי           PT      אחוזים   \n",
       "10928                   אחר           F      לא סודי           PT      אחוזים   \n",
       "10929                   אחר           F      לא סודי           PT      אחוזים   \n",
       "10930                   אחר           F      לא סודי           PT      אחוזים   \n",
       "\n",
       "       UNIT_MULT מכפיל יחידות TIME_PERIOD  OBS_VALUE RELEASE_STATUS  \\\n",
       "0              0       יחידות  1994-01-27      10.50             YP   \n",
       "1              0       יחידות  1994-01-28      10.50             YP   \n",
       "2              0       יחידות  1994-01-29      10.50             YP   \n",
       "3              0       יחידות  1994-01-30      10.50             YP   \n",
       "4              0       יחידות  1994-01-31      10.50             YP   \n",
       "...          ...          ...         ...        ...            ...   \n",
       "10926          0       יחידות  2023-12-27       4.75             YP   \n",
       "10927          0       יחידות  2023-12-28       4.75             YP   \n",
       "10928          0       יחידות  2023-12-29       4.75             YP   \n",
       "10929          0       יחידות  2023-12-30       4.75             YP   \n",
       "10930          0       יחידות  2023-12-31       4.75             YP   \n",
       "\n",
       "                                  שחרור תצפית  \n",
       "0      תצפית משוחררת לציבור ופנימית ( Public)  \n",
       "1      תצפית משוחררת לציבור ופנימית ( Public)  \n",
       "2      תצפית משוחררת לציבור ופנימית ( Public)  \n",
       "3      תצפית משוחררת לציבור ופנימית ( Public)  \n",
       "4      תצפית משוחררת לציבור ופנימית ( Public)  \n",
       "...                                       ...  \n",
       "10926  תצפית משוחררת לציבור ופנימית ( Public)  \n",
       "10927  תצפית משוחררת לציבור ופנימית ( Public)  \n",
       "10928  תצפית משוחררת לציבור ופנימית ( Public)  \n",
       "10929  תצפית משוחררת לציבור ופנימית ( Public)  \n",
       "10930  תצפית משוחררת לציבור ופנימית ( Public)  \n",
       "\n",
       "[10931 rows x 20 columns]"
      ],
      "text/html": [
       "<div>\n",
       "<style scoped>\n",
       "    .dataframe tbody tr th:only-of-type {\n",
       "        vertical-align: middle;\n",
       "    }\n",
       "\n",
       "    .dataframe tbody tr th {\n",
       "        vertical-align: top;\n",
       "    }\n",
       "\n",
       "    .dataframe thead th {\n",
       "        text-align: right;\n",
       "    }\n",
       "</style>\n",
       "<table border=\"1\" class=\"dataframe\">\n",
       "  <thead>\n",
       "    <tr style=\"text-align: right;\">\n",
       "      <th></th>\n",
       "      <th>SERIES_CODE</th>\n",
       "      <th>שם סדרה</th>\n",
       "      <th>FREQ</th>\n",
       "      <th>תדירות</th>\n",
       "      <th>IR_FV_TYPE</th>\n",
       "      <th>סוג ריבית</th>\n",
       "      <th>DATA_SOURCE</th>\n",
       "      <th>מקור נתונים</th>\n",
       "      <th>TIME_COLLECT</th>\n",
       "      <th>אופן חישוב בתקופת זמן</th>\n",
       "      <th>CONF_STATUS</th>\n",
       "      <th>סיווג סודיות</th>\n",
       "      <th>UNIT_MEASURE</th>\n",
       "      <th>יחידות מידה</th>\n",
       "      <th>UNIT_MULT</th>\n",
       "      <th>מכפיל יחידות</th>\n",
       "      <th>TIME_PERIOD</th>\n",
       "      <th>OBS_VALUE</th>\n",
       "      <th>RELEASE_STATUS</th>\n",
       "      <th>שחרור תצפית</th>\n",
       "    </tr>\n",
       "  </thead>\n",
       "  <tbody>\n",
       "    <tr>\n",
       "      <th>0</th>\n",
       "      <td>MNT_RIB_BOI_D</td>\n",
       "      <td>ריבית בנק ישראל</td>\n",
       "      <td>D</td>\n",
       "      <td>יומי</td>\n",
       "      <td>RIB_BOI</td>\n",
       "      <td>ריבית בנק מרכזי מוצהרת נומינלית</td>\n",
       "      <td>BOI</td>\n",
       "      <td>בנק ישראל</td>\n",
       "      <td>V</td>\n",
       "      <td>אחר</td>\n",
       "      <td>F</td>\n",
       "      <td>לא סודי</td>\n",
       "      <td>PT</td>\n",
       "      <td>אחוזים</td>\n",
       "      <td>0</td>\n",
       "      <td>יחידות</td>\n",
       "      <td>1994-01-27</td>\n",
       "      <td>10.50</td>\n",
       "      <td>YP</td>\n",
       "      <td>תצפית משוחררת לציבור ופנימית ( Public)</td>\n",
       "    </tr>\n",
       "    <tr>\n",
       "      <th>1</th>\n",
       "      <td>MNT_RIB_BOI_D</td>\n",
       "      <td>ריבית בנק ישראל</td>\n",
       "      <td>D</td>\n",
       "      <td>יומי</td>\n",
       "      <td>RIB_BOI</td>\n",
       "      <td>ריבית בנק מרכזי מוצהרת נומינלית</td>\n",
       "      <td>BOI</td>\n",
       "      <td>בנק ישראל</td>\n",
       "      <td>V</td>\n",
       "      <td>אחר</td>\n",
       "      <td>F</td>\n",
       "      <td>לא סודי</td>\n",
       "      <td>PT</td>\n",
       "      <td>אחוזים</td>\n",
       "      <td>0</td>\n",
       "      <td>יחידות</td>\n",
       "      <td>1994-01-28</td>\n",
       "      <td>10.50</td>\n",
       "      <td>YP</td>\n",
       "      <td>תצפית משוחררת לציבור ופנימית ( Public)</td>\n",
       "    </tr>\n",
       "    <tr>\n",
       "      <th>2</th>\n",
       "      <td>MNT_RIB_BOI_D</td>\n",
       "      <td>ריבית בנק ישראל</td>\n",
       "      <td>D</td>\n",
       "      <td>יומי</td>\n",
       "      <td>RIB_BOI</td>\n",
       "      <td>ריבית בנק מרכזי מוצהרת נומינלית</td>\n",
       "      <td>BOI</td>\n",
       "      <td>בנק ישראל</td>\n",
       "      <td>V</td>\n",
       "      <td>אחר</td>\n",
       "      <td>F</td>\n",
       "      <td>לא סודי</td>\n",
       "      <td>PT</td>\n",
       "      <td>אחוזים</td>\n",
       "      <td>0</td>\n",
       "      <td>יחידות</td>\n",
       "      <td>1994-01-29</td>\n",
       "      <td>10.50</td>\n",
       "      <td>YP</td>\n",
       "      <td>תצפית משוחררת לציבור ופנימית ( Public)</td>\n",
       "    </tr>\n",
       "    <tr>\n",
       "      <th>3</th>\n",
       "      <td>MNT_RIB_BOI_D</td>\n",
       "      <td>ריבית בנק ישראל</td>\n",
       "      <td>D</td>\n",
       "      <td>יומי</td>\n",
       "      <td>RIB_BOI</td>\n",
       "      <td>ריבית בנק מרכזי מוצהרת נומינלית</td>\n",
       "      <td>BOI</td>\n",
       "      <td>בנק ישראל</td>\n",
       "      <td>V</td>\n",
       "      <td>אחר</td>\n",
       "      <td>F</td>\n",
       "      <td>לא סודי</td>\n",
       "      <td>PT</td>\n",
       "      <td>אחוזים</td>\n",
       "      <td>0</td>\n",
       "      <td>יחידות</td>\n",
       "      <td>1994-01-30</td>\n",
       "      <td>10.50</td>\n",
       "      <td>YP</td>\n",
       "      <td>תצפית משוחררת לציבור ופנימית ( Public)</td>\n",
       "    </tr>\n",
       "    <tr>\n",
       "      <th>4</th>\n",
       "      <td>MNT_RIB_BOI_D</td>\n",
       "      <td>ריבית בנק ישראל</td>\n",
       "      <td>D</td>\n",
       "      <td>יומי</td>\n",
       "      <td>RIB_BOI</td>\n",
       "      <td>ריבית בנק מרכזי מוצהרת נומינלית</td>\n",
       "      <td>BOI</td>\n",
       "      <td>בנק ישראל</td>\n",
       "      <td>V</td>\n",
       "      <td>אחר</td>\n",
       "      <td>F</td>\n",
       "      <td>לא סודי</td>\n",
       "      <td>PT</td>\n",
       "      <td>אחוזים</td>\n",
       "      <td>0</td>\n",
       "      <td>יחידות</td>\n",
       "      <td>1994-01-31</td>\n",
       "      <td>10.50</td>\n",
       "      <td>YP</td>\n",
       "      <td>תצפית משוחררת לציבור ופנימית ( Public)</td>\n",
       "    </tr>\n",
       "    <tr>\n",
       "      <th>...</th>\n",
       "      <td>...</td>\n",
       "      <td>...</td>\n",
       "      <td>...</td>\n",
       "      <td>...</td>\n",
       "      <td>...</td>\n",
       "      <td>...</td>\n",
       "      <td>...</td>\n",
       "      <td>...</td>\n",
       "      <td>...</td>\n",
       "      <td>...</td>\n",
       "      <td>...</td>\n",
       "      <td>...</td>\n",
       "      <td>...</td>\n",
       "      <td>...</td>\n",
       "      <td>...</td>\n",
       "      <td>...</td>\n",
       "      <td>...</td>\n",
       "      <td>...</td>\n",
       "      <td>...</td>\n",
       "      <td>...</td>\n",
       "    </tr>\n",
       "    <tr>\n",
       "      <th>10926</th>\n",
       "      <td>MNT_RIB_BOI_D</td>\n",
       "      <td>ריבית בנק ישראל</td>\n",
       "      <td>D</td>\n",
       "      <td>יומי</td>\n",
       "      <td>RIB_BOI</td>\n",
       "      <td>ריבית בנק מרכזי מוצהרת נומינלית</td>\n",
       "      <td>BOI</td>\n",
       "      <td>בנק ישראל</td>\n",
       "      <td>V</td>\n",
       "      <td>אחר</td>\n",
       "      <td>F</td>\n",
       "      <td>לא סודי</td>\n",
       "      <td>PT</td>\n",
       "      <td>אחוזים</td>\n",
       "      <td>0</td>\n",
       "      <td>יחידות</td>\n",
       "      <td>2023-12-27</td>\n",
       "      <td>4.75</td>\n",
       "      <td>YP</td>\n",
       "      <td>תצפית משוחררת לציבור ופנימית ( Public)</td>\n",
       "    </tr>\n",
       "    <tr>\n",
       "      <th>10927</th>\n",
       "      <td>MNT_RIB_BOI_D</td>\n",
       "      <td>ריבית בנק ישראל</td>\n",
       "      <td>D</td>\n",
       "      <td>יומי</td>\n",
       "      <td>RIB_BOI</td>\n",
       "      <td>ריבית בנק מרכזי מוצהרת נומינלית</td>\n",
       "      <td>BOI</td>\n",
       "      <td>בנק ישראל</td>\n",
       "      <td>V</td>\n",
       "      <td>אחר</td>\n",
       "      <td>F</td>\n",
       "      <td>לא סודי</td>\n",
       "      <td>PT</td>\n",
       "      <td>אחוזים</td>\n",
       "      <td>0</td>\n",
       "      <td>יחידות</td>\n",
       "      <td>2023-12-28</td>\n",
       "      <td>4.75</td>\n",
       "      <td>YP</td>\n",
       "      <td>תצפית משוחררת לציבור ופנימית ( Public)</td>\n",
       "    </tr>\n",
       "    <tr>\n",
       "      <th>10928</th>\n",
       "      <td>MNT_RIB_BOI_D</td>\n",
       "      <td>ריבית בנק ישראל</td>\n",
       "      <td>D</td>\n",
       "      <td>יומי</td>\n",
       "      <td>RIB_BOI</td>\n",
       "      <td>ריבית בנק מרכזי מוצהרת נומינלית</td>\n",
       "      <td>BOI</td>\n",
       "      <td>בנק ישראל</td>\n",
       "      <td>V</td>\n",
       "      <td>אחר</td>\n",
       "      <td>F</td>\n",
       "      <td>לא סודי</td>\n",
       "      <td>PT</td>\n",
       "      <td>אחוזים</td>\n",
       "      <td>0</td>\n",
       "      <td>יחידות</td>\n",
       "      <td>2023-12-29</td>\n",
       "      <td>4.75</td>\n",
       "      <td>YP</td>\n",
       "      <td>תצפית משוחררת לציבור ופנימית ( Public)</td>\n",
       "    </tr>\n",
       "    <tr>\n",
       "      <th>10929</th>\n",
       "      <td>MNT_RIB_BOI_D</td>\n",
       "      <td>ריבית בנק ישראל</td>\n",
       "      <td>D</td>\n",
       "      <td>יומי</td>\n",
       "      <td>RIB_BOI</td>\n",
       "      <td>ריבית בנק מרכזי מוצהרת נומינלית</td>\n",
       "      <td>BOI</td>\n",
       "      <td>בנק ישראל</td>\n",
       "      <td>V</td>\n",
       "      <td>אחר</td>\n",
       "      <td>F</td>\n",
       "      <td>לא סודי</td>\n",
       "      <td>PT</td>\n",
       "      <td>אחוזים</td>\n",
       "      <td>0</td>\n",
       "      <td>יחידות</td>\n",
       "      <td>2023-12-30</td>\n",
       "      <td>4.75</td>\n",
       "      <td>YP</td>\n",
       "      <td>תצפית משוחררת לציבור ופנימית ( Public)</td>\n",
       "    </tr>\n",
       "    <tr>\n",
       "      <th>10930</th>\n",
       "      <td>MNT_RIB_BOI_D</td>\n",
       "      <td>ריבית בנק ישראל</td>\n",
       "      <td>D</td>\n",
       "      <td>יומי</td>\n",
       "      <td>RIB_BOI</td>\n",
       "      <td>ריבית בנק מרכזי מוצהרת נומינלית</td>\n",
       "      <td>BOI</td>\n",
       "      <td>בנק ישראל</td>\n",
       "      <td>V</td>\n",
       "      <td>אחר</td>\n",
       "      <td>F</td>\n",
       "      <td>לא סודי</td>\n",
       "      <td>PT</td>\n",
       "      <td>אחוזים</td>\n",
       "      <td>0</td>\n",
       "      <td>יחידות</td>\n",
       "      <td>2023-12-31</td>\n",
       "      <td>4.75</td>\n",
       "      <td>YP</td>\n",
       "      <td>תצפית משוחררת לציבור ופנימית ( Public)</td>\n",
       "    </tr>\n",
       "  </tbody>\n",
       "</table>\n",
       "<p>10931 rows × 20 columns</p>\n",
       "</div>"
      ]
     },
     "execution_count": 44,
     "metadata": {},
     "output_type": "execute_result"
    }
   ],
   "execution_count": 44
  },
  {
   "metadata": {
    "ExecuteTime": {
     "end_time": "2024-11-07T09:37:29.409259Z",
     "start_time": "2024-11-07T09:37:29.103349Z"
    }
   },
   "cell_type": "code",
   "source": "df_of_interest_il.columns",
   "id": "be55faf5154b9ad6",
   "outputs": [
    {
     "data": {
      "text/plain": [
       "Index(['SERIES_CODE', 'שם סדרה', 'FREQ', 'תדירות', 'IR_FV_TYPE', 'סוג ריבית',\n",
       "       'DATA_SOURCE', 'מקור נתונים', 'TIME_COLLECT', 'אופן חישוב בתקופת זמן',\n",
       "       'CONF_STATUS', 'סיווג סודיות', 'UNIT_MEASURE', 'יחידות מידה',\n",
       "       'UNIT_MULT', 'מכפיל יחידות', 'TIME_PERIOD', 'OBS_VALUE',\n",
       "       'RELEASE_STATUS', 'שחרור תצפית'],\n",
       "      dtype='object')"
      ]
     },
     "execution_count": 43,
     "metadata": {},
     "output_type": "execute_result"
    }
   ],
   "execution_count": 43
  },
  {
   "metadata": {
    "ExecuteTime": {
     "end_time": "2024-11-07T10:53:09.330882Z",
     "start_time": "2024-11-07T10:53:09.321957Z"
    }
   },
   "cell_type": "code",
   "source": [
    "# אני מכניס את התאריך לרשימה אחת\n",
    "df_fix_of_il_year_month = df_of_interest_il.TIME_PERIOD"
   ],
   "id": "f812ff41380bf76e",
   "outputs": [],
   "execution_count": 81
  },
  {
   "metadata": {
    "ExecuteTime": {
     "end_time": "2024-11-07T10:53:11.799456Z",
     "start_time": "2024-11-07T10:53:11.794355Z"
    }
   },
   "cell_type": "code",
   "source": [
    "# אני מכניס את האחוזים של הריבית לרשימה אחת\n",
    "df_fix_of_il_OBS_VALUE = df_of_interest_il.OBS_VALUE"
   ],
   "id": "834169ef53cd38fa",
   "outputs": [],
   "execution_count": 82
  },
  {
   "metadata": {
    "ExecuteTime": {
     "end_time": "2024-11-07T10:56:22.570944Z",
     "start_time": "2024-11-07T10:56:22.405225Z"
    }
   },
   "cell_type": "code",
   "source": [
    "# אני משלב את שני הרשימות\n",
    "df_fix_of_il = pd.merge(df_fix_of_il_year_month, df_fix_of_il_OBS_VALUE, left_index=True, right_index=True)"
   ],
   "id": "6e26f77046df0ffc",
   "outputs": [],
   "execution_count": 88
  },
  {
   "metadata": {
    "ExecuteTime": {
     "end_time": "2024-11-07T10:56:44.079568Z",
     "start_time": "2024-11-07T10:56:44.051259Z"
    }
   },
   "cell_type": "code",
   "source": "df_fix_of_il.head()",
   "id": "9495e7e507daefdc",
   "outputs": [
    {
     "data": {
      "text/plain": [
       "  TIME_PERIOD  OBS_VALUE\n",
       "0  1994-01-27       10.5\n",
       "1  1994-01-28       10.5\n",
       "2  1994-01-29       10.5\n",
       "3  1994-01-30       10.5\n",
       "4  1994-01-31       10.5"
      ],
      "text/html": [
       "<div>\n",
       "<style scoped>\n",
       "    .dataframe tbody tr th:only-of-type {\n",
       "        vertical-align: middle;\n",
       "    }\n",
       "\n",
       "    .dataframe tbody tr th {\n",
       "        vertical-align: top;\n",
       "    }\n",
       "\n",
       "    .dataframe thead th {\n",
       "        text-align: right;\n",
       "    }\n",
       "</style>\n",
       "<table border=\"1\" class=\"dataframe\">\n",
       "  <thead>\n",
       "    <tr style=\"text-align: right;\">\n",
       "      <th></th>\n",
       "      <th>TIME_PERIOD</th>\n",
       "      <th>OBS_VALUE</th>\n",
       "    </tr>\n",
       "  </thead>\n",
       "  <tbody>\n",
       "    <tr>\n",
       "      <th>0</th>\n",
       "      <td>1994-01-27</td>\n",
       "      <td>10.5</td>\n",
       "    </tr>\n",
       "    <tr>\n",
       "      <th>1</th>\n",
       "      <td>1994-01-28</td>\n",
       "      <td>10.5</td>\n",
       "    </tr>\n",
       "    <tr>\n",
       "      <th>2</th>\n",
       "      <td>1994-01-29</td>\n",
       "      <td>10.5</td>\n",
       "    </tr>\n",
       "    <tr>\n",
       "      <th>3</th>\n",
       "      <td>1994-01-30</td>\n",
       "      <td>10.5</td>\n",
       "    </tr>\n",
       "    <tr>\n",
       "      <th>4</th>\n",
       "      <td>1994-01-31</td>\n",
       "      <td>10.5</td>\n",
       "    </tr>\n",
       "  </tbody>\n",
       "</table>\n",
       "</div>"
      ]
     },
     "execution_count": 90,
     "metadata": {},
     "output_type": "execute_result"
    }
   ],
   "execution_count": 90
  },
  {
   "metadata": {
    "ExecuteTime": {
     "end_time": "2024-11-07T10:56:39.057403Z",
     "start_time": "2024-11-07T10:56:39.015748Z"
    }
   },
   "cell_type": "code",
   "source": [
    "# אני רוצה לסנן את השורות שאינם תחילת החודש\n",
    "# df_fix_of_il = df_fix_of_il.drop(df_fix_of_il['TIME_PERIOD'[8:] != '01'].index)\n",
    "df_fix_of_il['TIME_PERIOD'] = pd.to_datetime(df_fix_of_il['TIME_PERIOD'], errors='coerce')"
   ],
   "id": "6c9114604729972e",
   "outputs": [],
   "execution_count": 89
  },
  {
   "metadata": {
    "ExecuteTime": {
     "end_time": "2024-11-07T10:57:19.684764Z",
     "start_time": "2024-11-07T10:57:19.557423Z"
    }
   },
   "cell_type": "code",
   "source": [
    "# אני עובר פה על הימים מוצא את הימים שלא מיוצגים כראשון לחודש ואז זורק אותם\n",
    "# בשביל זה יבאתי את datatime\n",
    "for day in df_fix_of_il['TIME_PERIOD'].dt.day.unique():\n",
    "    if day != '01':\n",
    "        df_fix_of_il = df_fix_of_il.drop(day) "
   ],
   "id": "2320637086f23d8f",
   "outputs": [],
   "execution_count": 93
  },
  {
   "metadata": {
    "ExecuteTime": {
     "end_time": "2024-11-07T10:57:38.284940Z",
     "start_time": "2024-11-07T10:57:38.266066Z"
    }
   },
   "cell_type": "code",
   "source": "df_fix_of_il.isna",
   "id": "f5c792852f3f0787",
   "outputs": [
    {
     "data": {
      "text/plain": [
       "<bound method DataFrame.isna of       TIME_PERIOD  OBS_VALUE\n",
       "0      1994-01-27      10.50\n",
       "32     1994-02-28      10.50\n",
       "33     1994-03-01      10.50\n",
       "34     1994-03-02      10.50\n",
       "35     1994-03-03      10.50\n",
       "...           ...        ...\n",
       "10926  2023-12-27       4.75\n",
       "10927  2023-12-28       4.75\n",
       "10928  2023-12-29       4.75\n",
       "10929  2023-12-30       4.75\n",
       "10930  2023-12-31       4.75\n",
       "\n",
       "[10900 rows x 2 columns]>"
      ]
     },
     "execution_count": 94,
     "metadata": {},
     "output_type": "execute_result"
    }
   ],
   "execution_count": 94
  },
  {
   "metadata": {},
   "cell_type": "code",
   "outputs": [],
   "execution_count": null,
   "source": [
    "# אני רוצה להוציא את השינויים מהחודשים הקודמים\n",
    "Change_From_Last_Month_of_il = df_of_interest_il[]"
   ],
   "id": "79a9f2a542fcda91"
  },
  {
   "metadata": {},
   "cell_type": "code",
   "outputs": [],
   "execution_count": null,
   "source": "",
   "id": "a10c30d202ebbd20"
  },
  {
   "metadata": {
    "ExecuteTime": {
     "end_time": "2024-11-07T09:05:11.330402Z",
     "start_time": "2024-11-07T09:05:11.287788Z"
    }
   },
   "cell_type": "code",
   "source": "df_US_interest = pd.read_csv('exam/FEDFUNDS_2_Vintages_Starting_1996_12_03.txt')",
   "id": "fd4782c4855857d9",
   "outputs": [],
   "execution_count": 17
  },
  {
   "metadata": {},
   "cell_type": "code",
   "outputs": [],
   "execution_count": null,
   "source": "",
   "id": "1242daa187346390"
  },
  {
   "metadata": {
    "ExecuteTime": {
     "end_time": "2024-11-07T09:05:24.993963Z",
     "start_time": "2024-11-07T09:05:24.971660Z"
    }
   },
   "cell_type": "code",
   "source": "df_USD_to_ILS = pd.read_csv('exam/USD_ILS Historical Data.csv')",
   "id": "ab23e53c80624ad9",
   "outputs": [],
   "execution_count": 19
  },
  {
   "metadata": {},
   "cell_type": "code",
   "outputs": [],
   "execution_count": null,
   "source": "",
   "id": "2eb61c33501016ce"
  },
  {
   "metadata": {},
   "cell_type": "code",
   "outputs": [],
   "execution_count": null,
   "source": [
    "# columns for each\n",
    "# - Year\n",
    "# - Month\n",
    "# - Current_Rate (Interest rate or exchange rate for that month)\n",
    "# - Change_From_Last_Month"
   ],
   "id": "b0c182d5ff044550"
  },
  {
   "metadata": {},
   "cell_type": "code",
   "outputs": [],
   "execution_count": null,
   "source": "",
   "id": "e4b4b258f3c2b46d"
  },
  {
   "metadata": {},
   "cell_type": "code",
   "outputs": [],
   "execution_count": null,
   "source": "# your code here",
   "id": "8fb38157aa6333f3"
  },
  {
   "metadata": {},
   "cell_type": "markdown",
   "source": [
    "## Part A: Single DataFrame Analysis \n",
    "1. Display the first 5 rows of the US interest rates DataFrame.\n",
    "\n",
    "2. Calculate the average Israeli interest rate over the period covered by your data.\n",
    "\n",
    "3. Find the month and year when the USD to ILS exchange rate had the highest increase from the previous month.\n",
    "\n",
    "4. Determine the total number of months where the US interest rate decreased compared to the previous month.\n",
    "\n",
    "5. Add a new column to the Israeli interest rates DataFrame called Change_Percentage, representing the percentage change from the previous month.\n",
    "\n"
   ],
   "id": "71323c7318598fbb"
  },
  {
   "metadata": {
    "ExecuteTime": {
     "end_time": "2024-11-07T00:06:28.045691Z",
     "start_time": "2024-11-07T00:06:28.043900Z"
    }
   },
   "cell_type": "code",
   "source": [
    "# A - 1\n",
    "# your code here"
   ],
   "id": "399887d7fba8803a",
   "outputs": [],
   "execution_count": 5
  },
  {
   "metadata": {
    "ExecuteTime": {
     "end_time": "2024-11-07T00:06:49.986484Z",
     "start_time": "2024-11-07T00:06:49.984372Z"
    }
   },
   "cell_type": "code",
   "source": [
    "# A - 2\n",
    "# your code here"
   ],
   "id": "91d022cc344514de",
   "outputs": [],
   "execution_count": 7
  },
  {
   "metadata": {
    "ExecuteTime": {
     "end_time": "2024-11-07T00:06:53.867357Z",
     "start_time": "2024-11-07T00:06:53.865505Z"
    }
   },
   "cell_type": "code",
   "source": [
    "# A - 3\n",
    "# your code here"
   ],
   "id": "c29c363cd4e9a279",
   "outputs": [],
   "execution_count": 8
  },
  {
   "metadata": {
    "ExecuteTime": {
     "end_time": "2024-11-07T00:06:56.963009Z",
     "start_time": "2024-11-07T00:06:56.960675Z"
    }
   },
   "cell_type": "code",
   "source": [
    "# A - 4\n",
    "# your code here"
   ],
   "id": "c4c8ec122d04672",
   "outputs": [],
   "execution_count": 9
  },
  {
   "metadata": {},
   "cell_type": "code",
   "outputs": [],
   "execution_count": null,
   "source": [
    "# A - 5\n",
    "# your code here"
   ],
   "id": "49115d5dbff52532"
  },
  {
   "metadata": {},
   "cell_type": "markdown",
   "source": [
    "## Part B: Merging DataFrames\n",
    "1. Merge the US and Israeli interest rates DataFrames on Year and Month.\n",
    "\n",
    "2. In the merged DataFrame, create a new column Rate_Difference that shows the difference between the Israeli and US interest rates for each month.\n",
    "\n",
    "3. Identify all months when the Israeli interest rate was at least 1% higher than the US interest rate - IH (Israeli Higher).\n",
    "Identify all months when the US interest rate was at least 1% higher than the Israeli interest rate - UH (US Higher).\n",
    "Identify all months when the interest rates were within 1% of each other - N (Near)\n",
    "make a new column called Rate_Comparison with the following values: IH, UH, or N.\n",
    "\n",
    "4. Merge the exchange rate DataFrame with the merged interest rates DataFrame.\n",
    "\n",
    "5. After merging all three DataFrames, find the correlation between the Rate_Difference and the Current_Rate of the exchange rate.\n",
    "hint: find the connection between the difference in interest rates and the exchange rates, use any method you think is appropriate.\n",
    "provide an explanation of the results (in Hebrew) - at least 2 rows of text + a proof of the connection(some output) you found.\n"
   ],
   "id": "37324394ba9e1454"
  },
  {
   "metadata": {
    "ExecuteTime": {
     "end_time": "2024-11-07T00:06:02.968903Z",
     "start_time": "2024-11-07T00:06:02.967090Z"
    }
   },
   "cell_type": "code",
   "source": [
    "# B - 1\n",
    "# your code here"
   ],
   "id": "f6fcdba8d4d32d73",
   "outputs": [],
   "execution_count": 1
  },
  {
   "metadata": {
    "ExecuteTime": {
     "end_time": "2024-11-07T00:06:08.105790Z",
     "start_time": "2024-11-07T00:06:08.103620Z"
    }
   },
   "cell_type": "code",
   "source": [
    "# B - 2\n",
    "# your code here"
   ],
   "id": "7f18978fee56c6d6",
   "outputs": [],
   "execution_count": 2
  },
  {
   "metadata": {
    "ExecuteTime": {
     "end_time": "2024-11-07T00:06:10.259079Z",
     "start_time": "2024-11-07T00:06:10.257004Z"
    }
   },
   "cell_type": "code",
   "source": [
    "# B - 3\n",
    "# your code here"
   ],
   "id": "c6dcf835650149bf",
   "outputs": [],
   "execution_count": 3
  },
  {
   "metadata": {
    "ExecuteTime": {
     "end_time": "2024-11-07T00:06:12.381548Z",
     "start_time": "2024-11-07T00:06:12.379873Z"
    }
   },
   "cell_type": "code",
   "source": [
    "# B - 4\n",
    "# your code here"
   ],
   "id": "3145d351d7cbe982",
   "outputs": [],
   "execution_count": 4
  },
  {
   "metadata": {
    "ExecuteTime": {
     "end_time": "2024-11-07T00:06:37.878612Z",
     "start_time": "2024-11-07T00:06:37.876775Z"
    }
   },
   "cell_type": "code",
   "source": [
    "# B - 5\n",
    "# your code here"
   ],
   "id": "fe04eba74c68ab35",
   "outputs": [],
   "execution_count": 6
  },
  {
   "metadata": {},
   "cell_type": "code",
   "outputs": [],
   "execution_count": null,
   "source": "",
   "id": "48d876ac1bc8092"
  },
  {
   "metadata": {},
   "cell_type": "markdown",
   "source": [
    "## Part C: Analyzing Relationships Between DataFrames\n",
    "1. Analyze whether increases in US interest rates are associated with increases or decreases in the USD to ILS exchange rate in the same month.\n",
    "\n",
    "2. Determine if changes in the Israeli interest rate have a stronger impact on the exchange rate than changes in the US interest rate.\n",
    "\n",
    "3. Find any time lags in the effect of interest rate changes on the exchange rate. For example, does a change in US interest rates affect the exchange rate in the following month?\n",
    "(כלומר- האם כשיש שינוי בריבית כלשהי - האם מייד יש שינוי בשער ההמרה? או שיש דיליי של חודש/חודשים עד שמרגישים את ההשפעה - אם בכלל?)\n",
    "\n",
    "4. Calculate the rolling past 3-month average of the exchange rate for each data time, and add it as a new column.\n",
    "\n",
    "5. Identify any periods where both US and Israeli interest rates were decreasing, and analyze how the exchange rate behaved during those periods.\n",
    "\n"
   ],
   "id": "22213f81bdf06965"
  },
  {
   "metadata": {},
   "cell_type": "code",
   "outputs": [],
   "execution_count": null,
   "source": "# Bonus ",
   "id": "706a690fd803211c"
  },
  {
   "metadata": {},
   "cell_type": "markdown",
   "source": [
    "# Bonus\n",
    "choose 3 global / local events or periods that you think could have affected the exchange rate or interest rates\n",
    "and analyze the effect of these events on the data you collected.\n",
    "show proof of your analysis that supports your claim.\n",
    "\n",
    "(כלומר- תבחנו אירועים שקרו בתקופה שאתם עובדים עליה ובדקו איך הם השפיעו על הנתונים שאתם עובדים איתם)\n",
    "למשל: בחירות בארה״ב, בחירות בישראל, רוסיה אוקראינה, מלחמות בישראל וכו׳."
   ],
   "id": "8be22debf92d8f3a"
  },
  {
   "metadata": {},
   "cell_type": "code",
   "outputs": [],
   "execution_count": null,
   "source": "# Your code here",
   "id": "7cd992b43f3700e8"
  }
 ],
 "metadata": {
  "kernelspec": {
   "display_name": "Python 3",
   "language": "python",
   "name": "python3"
  },
  "language_info": {
   "codemirror_mode": {
    "name": "ipython",
    "version": 2
   },
   "file_extension": ".py",
   "mimetype": "text/x-python",
   "name": "python",
   "nbconvert_exporter": "python",
   "pygments_lexer": "ipython2",
   "version": "2.7.6"
  }
 },
 "nbformat": 4,
 "nbformat_minor": 5
}
